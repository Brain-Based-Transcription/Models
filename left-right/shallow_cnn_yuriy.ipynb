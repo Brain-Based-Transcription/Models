{
 "cells": [
  {
   "cell_type": "code",
   "execution_count": 1,
   "metadata": {},
   "outputs": [],
   "source": [
    "import numpy as np\n",
    "import torch\n",
    "from sklearn.model_selection import train_test_split\n",
    "from sklearn.preprocessing import LabelEncoder\n",
    "from braindecode.models import ShallowFBCSPNet\n",
    "from braindecode.util import set_random_seeds\n",
    "from skorch import NeuralNetClassifier\n",
    "from skorch.callbacks import LRScheduler\n",
    "import matplotlib.pyplot as plt\n",
    "from yuriy_preprocess import get_yuriy_data\n",
    "\n",
    "# Set random seeds for reproducibility\n",
    "set_random_seeds(seed=20200220, cuda=True)\n"
   ]
  },
  {
   "cell_type": "code",
   "execution_count": 2,
   "metadata": {},
   "outputs": [
    {
     "name": "stdout",
     "output_type": "stream",
     "text": [
      "Loading Yuriy's data...\n",
      "Data shape: (1388, 200, 19)\n",
      "Labels shape: (1388,)\n",
      "Unique labels: [1 2]\n",
      "Number of channels: 19\n",
      "Sampling frequency: 200 Hz\n",
      "Channel names: ['Fp1' 'Fp2' 'F3' 'F4' 'C3' 'C4' 'P3' 'P4' 'O1' 'O2']...\n"
     ]
    }
   ],
   "source": [
    "# Load the data\n",
    "print(\"Loading Yuriy's data...\")\n",
    "X, Y, meta_data = get_yuriy_data(samples_around=100)\n",
    "\n",
    "print(f\"Data shape: {X.shape}\")\n",
    "print(f\"Labels shape: {Y.shape}\")\n",
    "print(f\"Unique labels: {np.unique(Y)}\")\n",
    "print(f\"Number of channels: {len(meta_data['channel_names'])}\")\n",
    "print(f\"Sampling frequency: {meta_data['sampFreq']} Hz\")\n",
    "print(f\"Channel names: {meta_data['channel_names'][:10]}...\")  # Show first 10 channels\n"
   ]
  },
  {
   "cell_type": "code",
   "execution_count": 3,
   "metadata": {},
   "outputs": [
    {
     "name": "stdout",
     "output_type": "stream",
     "text": [
      "Original labels: [1 2]\n",
      "Encoded labels: [0 1]\n",
      "Original X tensor shape: torch.Size([1388, 200, 19])\n",
      "Transformed X tensor shape: torch.Size([1388, 19, 200])\n",
      "Y tensor shape: torch.Size([1388])\n",
      "Training set: torch.Size([1110, 19, 200]), torch.Size([1110])\n",
      "Test set: torch.Size([278, 19, 200]), torch.Size([278])\n",
      "\n",
      "Final verification:\n",
      "Expected format: (n_trials, n_channels, n_timepoints)\n",
      "X_train shape: torch.Size([1110, 19, 200]) -> (trials=1110, channels=19, timepoints=200)\n",
      "X_test shape: torch.Size([278, 19, 200]) -> (trials=278, channels=19, timepoints=200)\n"
     ]
    }
   ],
   "source": [
    "# Prepare the data for braindecode\n",
    "# Convert labels to 0-based indexing (braindecode expects 0-based)\n",
    "label_encoder = LabelEncoder()\n",
    "Y_encoded = label_encoder.fit_transform(Y)\n",
    "\n",
    "print(f\"Original labels: {np.unique(Y)}\")\n",
    "print(f\"Encoded labels: {np.unique(Y_encoded)}\")\n",
    "\n",
    "# Convert to torch tensors and ensure correct data types\n",
    "X_tensor = torch.from_numpy(X).float()\n",
    "Y_tensor = torch.from_numpy(Y_encoded).long()\n",
    "\n",
    "# Transform data from (n_trials, n_timepoints, n_channels) to (n_trials, n_channels, n_timepoints)\n",
    "# Braindecode expects shape (n_trials, n_channels, n_timepoints)\n",
    "print(f\"Original X tensor shape: {X_tensor.shape}\")\n",
    "X_tensor = X_tensor.permute(0, 2, 1)  # Change from (trials, time, channels) to (trials, channels, time)\n",
    "print(f\"Transformed X tensor shape: {X_tensor.shape}\")\n",
    "print(f\"Y tensor shape: {Y_tensor.shape}\")\n",
    "\n",
    "# Split the data\n",
    "X_train, X_test, Y_train, Y_test = train_test_split(\n",
    "    X_tensor, Y_tensor, test_size=0.2, random_state=42, stratify=Y_tensor\n",
    ")\n",
    "\n",
    "print(f\"Training set: {X_train.shape}, {Y_train.shape}\")\n",
    "print(f\"Test set: {X_test.shape}, {Y_test.shape}\")\n",
    "\n",
    "# Verify the final data shape for braindecode\n",
    "print(f\"\\nFinal verification:\")\n",
    "print(f\"Expected format: (n_trials, n_channels, n_timepoints)\")\n",
    "print(f\"X_train shape: {X_train.shape} -> (trials={X_train.shape[0]}, channels={X_train.shape[1]}, timepoints={X_train.shape[2]})\")\n",
    "print(f\"X_test shape: {X_test.shape} -> (trials={X_test.shape[0]}, channels={X_test.shape[1]}, timepoints={X_test.shape[2]})\")\n"
   ]
  },
  {
   "cell_type": "code",
   "execution_count": 4,
   "metadata": {},
   "outputs": [
    {
     "name": "stdout",
     "output_type": "stream",
     "text": [
      "Model parameters:\n",
      "  Number of classes: 2\n",
      "  Number of channels: 19\n",
      "  Input window samples: 200\n",
      "  Sampling frequency: 200\n",
      "Model created: ============================================================================================================================================\n",
      "Layer (type (var_name):depth-idx)        Input Shape               Output Shape              Param #                   Kernel Shape\n",
      "============================================================================================================================================\n",
      "ShallowFBCSPNet (ShallowFBCSPNet)        [1, 19, 200]              [1, 2]                    --                        --\n",
      "├─Ensure4d (ensuredims): 1-1             [1, 19, 200]              [1, 19, 200, 1]           --                        --\n",
      "├─Rearrange (dimshuffle): 1-2            [1, 19, 200, 1]           [1, 1, 200, 19]           --                        --\n",
      "├─CombinedConv (conv_time_spat): 1-3     [1, 1, 200, 19]           [1, 40, 176, 1]           31,440                    --\n",
      "├─BatchNorm2d (bnorm): 1-4               [1, 40, 176, 1]           [1, 40, 176, 1]           80                        --\n",
      "├─Expression (conv_nonlin_exp): 1-5      [1, 40, 176, 1]           [1, 40, 176, 1]           --                        --\n",
      "├─AvgPool2d (pool): 1-6                  [1, 40, 176, 1]           [1, 40, 7, 1]             --                        [75, 1]\n",
      "├─Expression (pool_nonlin_exp): 1-7      [1, 40, 7, 1]             [1, 40, 7, 1]             --                        --\n",
      "├─Dropout (drop): 1-8                    [1, 40, 7, 1]             [1, 40, 7, 1]             --                        --\n",
      "├─Sequential (final_layer): 1-9          [1, 40, 7, 1]             [1, 2]                    --                        --\n",
      "│    └─Conv2d (conv_classifier): 2-1     [1, 40, 7, 1]             [1, 2, 1, 1]              562                       [7, 1]\n",
      "│    └─LogSoftmax (logsoftmax): 2-2      [1, 2, 1, 1]              [1, 2, 1, 1]              --                        --\n",
      "│    └─Expression (squeeze): 2-3         [1, 2, 1, 1]              [1, 2]                    --                        --\n",
      "============================================================================================================================================\n",
      "Total params: 32,082\n",
      "Trainable params: 32,082\n",
      "Non-trainable params: 0\n",
      "Total mult-adds (Units.MEGABYTES): 0.00\n",
      "============================================================================================================================================\n",
      "Input size (MB): 0.02\n",
      "Forward/backward pass size (MB): 0.06\n",
      "Params size (MB): 0.00\n",
      "Estimated Total Size (MB): 0.07\n",
      "============================================================================================================================================\n",
      "Using device: cpu\n"
     ]
    },
    {
     "name": "stderr",
     "output_type": "stream",
     "text": [
      "/Users/alejandro/watolink/Models/.venv/lib/python3.11/site-packages/braindecode/models/base.py:180: UserWarning: LogSoftmax final layer will be removed! Please adjust your loss function accordingly (e.g. CrossEntropyLoss)!\n",
      "  warnings.warn(\"LogSoftmax final layer will be removed! \" +\n"
     ]
    }
   ],
   "source": [
    "# Create the ShallowFBCSPNet model\n",
    "n_outputs = len(np.unique(Y_encoded))\n",
    "# After transpose: X_tensor shape is (n_trials, n_channels, n_timepoints)\n",
    "n_chans = X_tensor.shape[1]  # Number of channels (after transpose)\n",
    "n_times = X_tensor.shape[2]  # Number of time samples (after transpose)\n",
    "sfreq = meta_data['sampFreq']  # Sampling frequency\n",
    "\n",
    "print(f\"Model parameters:\")\n",
    "print(f\"  Number of classes: {n_outputs}\")\n",
    "print(f\"  Number of channels: {n_chans}\")\n",
    "print(f\"  Input window samples: {n_times}\")\n",
    "print(f\"  Sampling frequency: {sfreq}\")\n",
    "\n",
    "# Create the model\n",
    "model = ShallowFBCSPNet(\n",
    "    n_chans=n_chans,\n",
    "    n_outputs=n_outputs,\n",
    "    n_times=n_times,\n",
    "    final_conv_length=\"auto\",\n",
    ")\n",
    "\n",
    "print(f\"Model created: {model}\")\n",
    "\n",
    "# Check if CUDA is available\n",
    "device = \"cuda\" if torch.cuda.is_available() else \"cpu\"\n",
    "print(f\"Using device: {device}\")\n"
   ]
  },
  {
   "cell_type": "code",
   "execution_count": 5,
   "metadata": {},
   "outputs": [
    {
     "name": "stdout",
     "output_type": "stream",
     "text": [
      "Starting training...\n"
     ]
    }
   ],
   "source": [
    "# Set up the training using skorch\n",
    "clf = NeuralNetClassifier(\n",
    "    model,\n",
    "    criterion=torch.nn.CrossEntropyLoss,\n",
    "    optimizer=torch.optim.AdamW,\n",
    "    optimizer__lr=0.0625 * 0.01,\n",
    "    optimizer__weight_decay=0,\n",
    "    batch_size=32,\n",
    "    callbacks=[\n",
    "        LRScheduler(policy=\"CosineAnnealingLR\", T_max=50),\n",
    "    ],\n",
    "    max_epochs=50,\n",
    "    device=device,\n",
    "    verbose=1,\n",
    ")\n",
    "\n",
    "print(\"Starting training...\")"
   ]
  },
  {
   "cell_type": "code",
   "execution_count": 6,
   "metadata": {},
   "outputs": [
    {
     "name": "stdout",
     "output_type": "stream",
     "text": [
      "Starting full training...\n",
      "Training data: torch.Size([1110, 19, 200])\n",
      "Labels: torch.Size([1110]) with classes [0, 1]\n",
      "  epoch    train_loss    valid_acc    valid_loss      lr     dur\n",
      "-------  ------------  -----------  ------------  ------  ------\n",
      "      1        \u001b[36m0.8729\u001b[0m       \u001b[32m0.6532\u001b[0m        \u001b[35m0.6249\u001b[0m  0.0006  0.2149\n",
      "      2        \u001b[36m0.6217\u001b[0m       \u001b[32m0.7568\u001b[0m        \u001b[35m0.5379\u001b[0m  0.0006  0.1949\n",
      "      3        \u001b[36m0.5222\u001b[0m       0.7568        \u001b[35m0.4941\u001b[0m  0.0006  0.1973\n",
      "      4        \u001b[36m0.4517\u001b[0m       \u001b[32m0.7928\u001b[0m        \u001b[35m0.4567\u001b[0m  0.0006  0.1994\n",
      "      5        \u001b[36m0.3911\u001b[0m       \u001b[32m0.8108\u001b[0m        \u001b[35m0.4410\u001b[0m  0.0006  0.1811\n",
      "      6        \u001b[36m0.3485\u001b[0m       0.8063        \u001b[35m0.4117\u001b[0m  0.0006  0.1824\n",
      "      7        \u001b[36m0.3324\u001b[0m       \u001b[32m0.8288\u001b[0m        \u001b[35m0.3811\u001b[0m  0.0006  0.1932\n",
      "      8        \u001b[36m0.2570\u001b[0m       \u001b[32m0.8378\u001b[0m        \u001b[35m0.3532\u001b[0m  0.0006  0.1898\n",
      "      9        \u001b[36m0.2315\u001b[0m       \u001b[32m0.8739\u001b[0m        \u001b[35m0.3249\u001b[0m  0.0006  0.1832\n",
      "     10        0.2331       \u001b[32m0.8919\u001b[0m        \u001b[35m0.2934\u001b[0m  0.0006  0.1957\n",
      "     11        \u001b[36m0.1739\u001b[0m       \u001b[32m0.9009\u001b[0m        \u001b[35m0.2618\u001b[0m  0.0006  0.1954\n",
      "     12        \u001b[36m0.1522\u001b[0m       0.8829        0.2793  0.0006  0.2005\n",
      "     13        \u001b[36m0.1454\u001b[0m       0.8964        0.2656  0.0005  0.1996\n",
      "     14        \u001b[36m0.1444\u001b[0m       \u001b[32m0.9099\u001b[0m        \u001b[35m0.2418\u001b[0m  0.0005  0.1995\n",
      "     15        \u001b[36m0.1036\u001b[0m       0.8964        0.2423  0.0005  0.1874\n",
      "     16        0.1221       0.8784        \u001b[35m0.2326\u001b[0m  0.0005  0.1871\n",
      "     17        \u001b[36m0.1033\u001b[0m       \u001b[32m0.9144\u001b[0m        \u001b[35m0.2009\u001b[0m  0.0005  0.2087\n",
      "     18        \u001b[36m0.0898\u001b[0m       \u001b[32m0.9189\u001b[0m        \u001b[35m0.1991\u001b[0m  0.0005  0.2048\n",
      "     19        \u001b[36m0.0741\u001b[0m       0.9189        \u001b[35m0.1869\u001b[0m  0.0004  0.1998\n",
      "     20        0.0929       0.9099        0.2118  0.0004  0.2000\n",
      "     21        \u001b[36m0.0736\u001b[0m       0.9189        0.1931  0.0004  0.1994\n",
      "     22        \u001b[36m0.0710\u001b[0m       0.9099        0.2034  0.0004  0.2189\n",
      "     23        \u001b[36m0.0614\u001b[0m       0.9099        0.2013  0.0004  0.2023\n",
      "     24        0.0623       0.9054        0.2059  0.0004  0.2019\n",
      "     25        0.0675       0.9144        0.1881  0.0003  0.1878\n",
      "     26        \u001b[36m0.0419\u001b[0m       0.9189        0.1899  0.0003  0.1836\n",
      "     27        0.0519       0.9144        \u001b[35m0.1806\u001b[0m  0.0003  0.1857\n",
      "     28        0.0431       0.9189        0.1829  0.0003  0.2010\n",
      "     29        0.0493       0.9189        \u001b[35m0.1767\u001b[0m  0.0003  0.1970\n",
      "     30        0.0451       \u001b[32m0.9234\u001b[0m        0.1770  0.0002  0.1926\n",
      "     31        0.0458       0.9189        \u001b[35m0.1709\u001b[0m  0.0002  0.1884\n",
      "     32        \u001b[36m0.0341\u001b[0m       0.9234        \u001b[35m0.1679\u001b[0m  0.0002  0.1879\n",
      "     33        0.0391       0.9234        \u001b[35m0.1643\u001b[0m  0.0002  0.1852\n",
      "     34        0.0384       0.9189        0.1674  0.0002  0.1847\n",
      "     35        0.0393       0.9099        0.1717  0.0001  0.1878\n",
      "     36        0.0368       0.9189        0.1723  0.0001  0.1836\n",
      "     37        \u001b[36m0.0327\u001b[0m       0.9144        0.1710  0.0001  0.1896\n",
      "     38        0.0335       0.9144        0.1681  0.0001  0.1872\n",
      "     39        \u001b[36m0.0324\u001b[0m       0.9144        0.1681  0.0001  0.1833\n",
      "     40        \u001b[36m0.0283\u001b[0m       0.9144        0.1680  0.0001  0.1872\n",
      "     41        0.0296       0.9144        0.1685  0.0001  0.1854\n",
      "     42        0.0301       0.9144        0.1702  0.0000  0.1860\n",
      "     43        0.0396       0.9144        0.1668  0.0000  0.1855\n",
      "     44        0.0289       0.9144        0.1654  0.0000  0.1861\n",
      "     45        0.0292       0.9144        0.1652  0.0000  0.1920\n",
      "     46        0.0305       0.9144        0.1655  0.0000  0.2029\n",
      "     47        0.0292       0.9144        0.1655  0.0000  0.1883\n",
      "     48        0.0320       0.9144        0.1658  0.0000  0.1928\n",
      "     49        0.0284       0.9144        0.1658  0.0000  0.1881\n",
      "     50        0.0304       0.9144        0.1658  0.0000  0.1861\n",
      "\n",
      "✅ Training completed successfully!\n"
     ]
    }
   ],
   "source": [
    "print(f\"Starting full training...\")\n",
    "print(f\"Training data: {X_train.shape}\")\n",
    "print(f\"Labels: {Y_train.shape} with classes {torch.unique(Y_train).tolist()}\")\n",
    "\n",
    "# Train the model\n",
    "clf.fit(X_train, Y_train)\n",
    "print(\"\\n✅ Training completed successfully!\")"
   ]
  },
  {
   "cell_type": "code",
   "execution_count": 7,
   "metadata": {},
   "outputs": [
    {
     "name": "stdout",
     "output_type": "stream",
     "text": [
      "Evaluating model...\n",
      "Training Accuracy: 0.9829\n",
      "Test Accuracy: 0.9281\n",
      "\n",
      "First 20 test predictions vs actual:\n",
      "Sample 1: Predicted=2, Actual=2\n",
      "Sample 2: Predicted=1, Actual=1\n",
      "Sample 3: Predicted=1, Actual=1\n",
      "Sample 4: Predicted=2, Actual=2\n",
      "Sample 5: Predicted=2, Actual=2\n",
      "Sample 6: Predicted=2, Actual=2\n",
      "Sample 7: Predicted=1, Actual=1\n",
      "Sample 8: Predicted=2, Actual=2\n",
      "Sample 9: Predicted=1, Actual=1\n",
      "Sample 10: Predicted=2, Actual=2\n",
      "Sample 11: Predicted=2, Actual=2\n",
      "Sample 12: Predicted=2, Actual=1\n",
      "Sample 13: Predicted=2, Actual=2\n",
      "Sample 14: Predicted=1, Actual=1\n",
      "Sample 15: Predicted=2, Actual=2\n",
      "Sample 16: Predicted=1, Actual=1\n",
      "Sample 17: Predicted=2, Actual=2\n",
      "Sample 18: Predicted=2, Actual=2\n",
      "Sample 19: Predicted=1, Actual=1\n",
      "Sample 20: Predicted=1, Actual=2\n"
     ]
    }
   ],
   "source": [
    "# Evaluate the model\n",
    "print(\"Evaluating model...\")\n",
    "\n",
    "# Training accuracy\n",
    "train_predictions = clf.predict(X_train)\n",
    "train_accuracy = np.mean(train_predictions == Y_train.numpy())\n",
    "print(f\"Training Accuracy: {train_accuracy:.4f}\")\n",
    "\n",
    "# Test accuracy\n",
    "test_predictions = clf.predict(X_test)\n",
    "test_accuracy = np.mean(test_predictions == Y_test.numpy())\n",
    "print(f\"Test Accuracy: {test_accuracy:.4f}\")\n",
    "\n",
    "# Print predictions vs actual for first 20 test samples\n",
    "print(\"\\nFirst 20 test predictions vs actual:\")\n",
    "for i in range(min(20, len(Y_test))):\n",
    "    pred_label = label_encoder.inverse_transform([test_predictions[i]])[0]\n",
    "    actual_label = label_encoder.inverse_transform([Y_test[i].item()])[0]\n",
    "    print(f\"Sample {i+1}: Predicted={pred_label}, Actual={actual_label}\")\n"
   ]
  },
  {
   "cell_type": "code",
   "execution_count": 8,
   "metadata": {},
   "outputs": [
    {
     "data": {
      "image/png": "[encoded data removed]",
      "text/plain": [
       "<Figure size 1000x600 with 1 Axes>"
      ]
     },
     "metadata": {},
     "output_type": "display_data"
    },
    {
     "name": "stdout",
     "output_type": "stream",
     "text": [
      "Final training loss: 0.0304\n"
     ]
    }
   ],
   "source": [
    "# Plot training history\n",
    "train_losses = [hist['train_loss'] for hist in clf.history]\n",
    "\n",
    "plt.figure(figsize=(10, 6))\n",
    "plt.plot(train_losses, linewidth=2)\n",
    "plt.xlabel('Epoch')\n",
    "plt.ylabel('Training Loss')\n",
    "plt.title('Training Loss')\n",
    "plt.grid(True)\n",
    "plt.show()\n",
    "\n",
    "print(f\"Final training loss: {train_losses[-1]:.4f}\")\n"
   ]
  },
  {
   "cell_type": "code",
   "execution_count": 9,
   "metadata": {},
   "outputs": [
    {
     "name": "stdout",
     "output_type": "stream",
     "text": [
      "Confusion Matrix:\n",
      "[[129  10]\n",
      " [ 10 129]]\n",
      "\n",
      "Classification Report:\n",
      "              precision    recall  f1-score   support\n",
      "\n",
      "           1       0.93      0.93      0.93       139\n",
      "           2       0.93      0.93      0.93       139\n",
      "\n",
      "    accuracy                           0.93       278\n",
      "   macro avg       0.93      0.93      0.93       278\n",
      "weighted avg       0.93      0.93      0.93       278\n",
      "\n"
     ]
    },
    {
     "data": {
      "image/png": "[encoded data removed]",
      "text/plain": [
       "<Figure size 800x600 with 2 Axes>"
      ]
     },
     "metadata": {},
     "output_type": "display_data"
    }
   ],
   "source": [
    "# Confusion matrix and classification report\n",
    "from sklearn.metrics import confusion_matrix, classification_report\n",
    "\n",
    "# Get original labels back\n",
    "test_labels_original = label_encoder.inverse_transform(Y_test.numpy())\n",
    "pred_labels_original = label_encoder.inverse_transform(test_predictions)\n",
    "\n",
    "# Confusion matrix\n",
    "cm = confusion_matrix(test_labels_original, pred_labels_original)\n",
    "print(\"Confusion Matrix:\")\n",
    "print(cm)\n",
    "\n",
    "# Classification report\n",
    "print(\"\\nClassification Report:\")\n",
    "print(classification_report(test_labels_original, pred_labels_original))\n",
    "\n",
    "# Plot confusion matrix\n",
    "plt.figure(figsize=(8, 6))\n",
    "plt.imshow(cm, interpolation='nearest', cmap=plt.cm.Blues)\n",
    "plt.title('Confusion Matrix')\n",
    "plt.colorbar()\n",
    "tick_marks = np.arange(len(np.unique(test_labels_original)))\n",
    "plt.xticks(tick_marks, np.unique(test_labels_original))\n",
    "plt.yticks(tick_marks, np.unique(test_labels_original))\n",
    "plt.xlabel('Predicted Label')\n",
    "plt.ylabel('True Label')\n",
    "\n",
    "# Add numbers to confusion matrix\n",
    "thresh = cm.max() / 2.\n",
    "for i, j in np.ndindex(cm.shape):\n",
    "    plt.text(j, i, format(cm[i, j], 'd'),\n",
    "             horizontalalignment=\"center\",\n",
    "             color=\"white\" if cm[i, j] > thresh else \"black\")\n",
    "\n",
    "plt.tight_layout()\n",
    "plt.show()\n"
   ]
  }
 ],
 "metadata": {
  "kernelspec": {
   "display_name": ".venv",
   "language": "python",
   "name": "python3"
  },
  "language_info": {
   "codemirror_mode": {
    "name": "ipython",
    "version": 3
   },
   "file_extension": ".py",
   "mimetype": "text/x-python",
   "name": "python",
   "nbconvert_exporter": "python",
   "pygments_lexer": "ipython3",
   "version": "3.11.7"
  }
 },
 "nbformat": 4,
 "nbformat_minor": 2
}
