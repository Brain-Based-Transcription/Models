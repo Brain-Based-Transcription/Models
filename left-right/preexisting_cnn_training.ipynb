{
  "cells": [
    {
      "cell_type": "code",
      "execution_count": 1,
      "metadata": {},
      "outputs": [],
      "source": [
        "import numpy as np\n",
        "import torch\n",
        "from sklearn.model_selection import train_test_split\n",
        "from sklearn.preprocessing import LabelEncoder\n",
        "from braindecode.models import ShallowFBCSPNet, EEGNetv4\n",
        "from braindecode.util import set_random_seeds\n",
        "from skorch import NeuralNetClassifier\n",
        "from skorch.callbacks import LRScheduler, EarlyStopping\n",
        "import matplotlib.pyplot as plt\n",
        "from fetch_yuriy_data import get_yuriy_data\n",
        "from torch.optim.lr_scheduler import CosineAnnealingLR, CosineAnnealingWarmRestarts\n",
        "\n",
        "# Set random seeds for reproducibility\n",
        "set_random_seeds(seed=20200220, cuda=True)\n"
      ]
    },
    {
      "cell_type": "code",
      "execution_count": 2,
      "metadata": {},
      "outputs": [
        {
          "name": "stdout",
          "output_type": "stream",
          "text": [
            "Loading Yuriy's data...\n",
            "Data shape: (1388, 600, 19)\n",
            "Labels shape: (1388,)\n",
            "Unique labels: [1 2]\n",
            "Number of channels: 19\n",
            "Sampling frequency: 200 Hz\n",
            "Channel names: ['Fp1' 'Fp2' 'F3' 'F4' 'C3' 'C4' 'P3' 'P4' 'O1' 'O2']...\n"
          ]
        }
      ],
      "source": [
        "# Load the data\n",
        "print(\"Loading Yuriy's data...\")\n",
        "X, Y, meta_data = get_yuriy_data(samples_around=300)\n",
        "\n",
        "print(f\"Data shape: {X.shape}\")\n",
        "print(f\"Labels shape: {Y.shape}\")\n",
        "print(f\"Unique labels: {np.unique(Y)}\")\n",
        "print(f\"Number of channels: {len(meta_data['channel_names'])}\")\n",
        "print(f\"Sampling frequency: {meta_data['sampFreq']} Hz\")\n",
        "print(f\"Channel names: {meta_data['channel_names'][:10]}...\")  # Show first 10 channels\n"
      ]
    },
    {
      "cell_type": "code",
      "execution_count": 3,
      "metadata": {},
      "outputs": [
        {
          "name": "stdout",
          "output_type": "stream",
          "text": [
            "Original labels: [1 2]\n",
            "Encoded labels: [0 1]\n",
            "Original X tensor shape: torch.Size([1388, 600, 19])\n",
            "Transformed X tensor shape: torch.Size([1388, 19, 600])\n",
            "Y tensor shape: torch.Size([1388])\n",
            "Training set: torch.Size([1110, 19, 600]), torch.Size([1110])\n",
            "Test set: torch.Size([278, 19, 600]), torch.Size([278])\n",
            "\n",
            "Final verification:\n",
            "Expected format: (n_trials, n_channels, n_timepoints)\n",
            "X_train shape: torch.Size([1110, 19, 600]) -> (trials=1110, channels=19, timepoints=600)\n",
            "X_test shape: torch.Size([278, 19, 600]) -> (trials=278, channels=19, timepoints=600)\n"
          ]
        }
      ],
      "source": [
        "# Prepare the data for braindecode\n",
        "# Convert labels to 0-based indexing (braindecode expects 0-based)\n",
        "label_encoder = LabelEncoder()\n",
        "Y_encoded = label_encoder.fit_transform(Y)\n",
        "\n",
        "print(f\"Original labels: {np.unique(Y)}\")\n",
        "print(f\"Encoded labels: {np.unique(Y_encoded)}\")\n",
        "\n",
        "# Convert to torch tensors and ensure correct data types\n",
        "X_tensor = torch.from_numpy(X).float()\n",
        "Y_tensor = torch.from_numpy(Y_encoded).long()\n",
        "\n",
        "# Transform data from (n_trials, n_timepoints, n_channels) to (n_trials, n_channels, n_timepoints)\n",
        "# Braindecode expects shape (n_trials, n_channels, n_timepoints)\n",
        "print(f\"Original X tensor shape: {X_tensor.shape}\")\n",
        "X_tensor = X_tensor.permute(0, 2, 1)  # Change from (trials, time, channels) to (trials, channels, time)\n",
        "print(f\"Transformed X tensor shape: {X_tensor.shape}\")\n",
        "print(f\"Y tensor shape: {Y_tensor.shape}\")\n",
        "\n",
        "# Split the data\n",
        "X_train, X_test, Y_train, Y_test = train_test_split(\n",
        "    X_tensor, Y_tensor, test_size=0.2, random_state=42, stratify=Y_tensor\n",
        ")\n",
        "\n",
        "print(f\"Training set: {X_train.shape}, {Y_train.shape}\")\n",
        "print(f\"Test set: {X_test.shape}, {Y_test.shape}\")\n",
        "\n",
        "# Verify the final data shape for braindecode\n",
        "print(f\"\\nFinal verification:\")\n",
        "print(f\"Expected format: (n_trials, n_channels, n_timepoints)\")\n",
        "print(f\"X_train shape: {X_train.shape} -> (trials={X_train.shape[0]}, channels={X_train.shape[1]}, timepoints={X_train.shape[2]})\")\n",
        "print(f\"X_test shape: {X_test.shape} -> (trials={X_test.shape[0]}, channels={X_test.shape[1]}, timepoints={X_test.shape[2]})\")\n"
      ]
    },
    {
      "cell_type": "code",
      "execution_count": 4,
      "metadata": {},
      "outputs": [
        {
          "name": "stdout",
          "output_type": "stream",
          "text": [
            "Model parameters:\n",
            "  Number of classes: 2\n",
            "  Number of channels: 19\n",
            "  Input window samples: 600\n",
            "  Sampling frequency: 200\n",
            "Model created: ============================================================================================================================================\n",
            "Layer (type (var_name):depth-idx)        Input Shape               Output Shape              Param #                   Kernel Shape\n",
            "============================================================================================================================================\n",
            "ShallowFBCSPNet (ShallowFBCSPNet)        [1, 19, 600]              [1, 2]                    --                        --\n",
            "├─Ensure4d (ensuredims): 1-1             [1, 19, 600]              [1, 19, 600, 1]           --                        --\n",
            "├─Rearrange (dimshuffle): 1-2            [1, 19, 600, 1]           [1, 1, 600, 19]           --                        --\n",
            "├─CombinedConv (conv_time_spat): 1-3     [1, 1, 600, 19]           [1, 40, 576, 1]           31,440                    --\n",
            "├─BatchNorm2d (bnorm): 1-4               [1, 40, 576, 1]           [1, 40, 576, 1]           80                        --\n",
            "├─Expression (conv_nonlin_exp): 1-5      [1, 40, 576, 1]           [1, 40, 576, 1]           --                        --\n",
            "├─AvgPool2d (pool): 1-6                  [1, 40, 576, 1]           [1, 40, 34, 1]            --                        [75, 1]\n",
            "├─Expression (pool_nonlin_exp): 1-7      [1, 40, 34, 1]            [1, 40, 34, 1]            --                        --\n",
            "├─Dropout (drop): 1-8                    [1, 40, 34, 1]            [1, 40, 34, 1]            --                        --\n",
            "├─Sequential (final_layer): 1-9          [1, 40, 34, 1]            [1, 2]                    --                        --\n",
            "│    └─Conv2d (conv_classifier): 2-1     [1, 40, 34, 1]            [1, 2, 1, 1]              2,722                     [34, 1]\n",
            "│    └─LogSoftmax (logsoftmax): 2-2      [1, 2, 1, 1]              [1, 2, 1, 1]              --                        --\n",
            "│    └─Expression (squeeze): 2-3         [1, 2, 1, 1]              [1, 2]                    --                        --\n",
            "============================================================================================================================================\n",
            "Total params: 34,242\n",
            "Trainable params: 34,242\n",
            "Non-trainable params: 0\n",
            "Total mult-adds (Units.MEGABYTES): 0.00\n",
            "============================================================================================================================================\n",
            "Input size (MB): 0.05\n",
            "Forward/backward pass size (MB): 0.18\n",
            "Params size (MB): 0.01\n",
            "Estimated Total Size (MB): 0.24\n",
            "============================================================================================================================================\n",
            "Using device: cpu\n"
          ]
        },
        {
          "name": "stderr",
          "output_type": "stream",
          "text": [
            "/Users/alejandro/VSCodeProjects/Models/.venv/lib/python3.11/site-packages/braindecode/models/base.py:180: UserWarning: LogSoftmax final layer will be removed! Please adjust your loss function accordingly (e.g. CrossEntropyLoss)!\n",
            "  warnings.warn(\"LogSoftmax final layer will be removed! \" +\n"
          ]
        }
      ],
      "source": [
        "# Create the ShallowFBCSPNet model\n",
        "n_outputs = len(np.unique(Y_encoded))\n",
        "# After transpose: X_tensor shape is (n_trials, n_channels, n_timepoints)\n",
        "n_chans = X_tensor.shape[1]  # Number of channels (after transpose)\n",
        "n_times = X_tensor.shape[2]  # Number of time samples (after transpose)\n",
        "sfreq = meta_data['sampFreq']  # Sampling frequency\n",
        "\n",
        "print(f\"Model parameters:\")\n",
        "print(f\"  Number of classes: {n_outputs}\")\n",
        "print(f\"  Number of channels: {n_chans}\")\n",
        "print(f\"  Input window samples: {n_times}\")\n",
        "print(f\"  Sampling frequency: {sfreq}\")\n",
        "\n",
        "model_type = 'shallow'\n",
        "\n",
        "# Create the model\n",
        "if model_type == 'shallow':\n",
        "    model = ShallowFBCSPNet(\n",
        "        n_chans=n_chans,\n",
        "        n_outputs=n_outputs,\n",
        "        n_times=n_times,\n",
        "        final_conv_length=\"auto\",\n",
        "    )\n",
        "else:\n",
        "    model = EEGNetv4(\n",
        "        n_chans=n_chans,\n",
        "        n_outputs=n_outputs,\n",
        "        n_times=n_times,\n",
        "        drop_prob=0.25,\n",
        "        final_conv_length=\"auto\",\n",
        "        sfreq=sfreq,\n",
        "        kernel_length=sfreq//2,\n",
        "        input_window_seconds=n_times/sfreq,\n",
        "    )\n",
        "\n",
        "print(f\"Model created: {model}\")\n",
        "\n",
        "# Check if CUDA is available\n",
        "device = \"cuda\" if torch.cuda.is_available() else \"cpu\"\n",
        "print(f\"Using device: {device}\")\n"
      ]
    },
    {
      "cell_type": "code",
      "execution_count": 5,
      "metadata": {},
      "outputs": [
        {
          "name": "stdout",
          "output_type": "stream",
          "text": [
            "Starting training...\n"
          ]
        }
      ],
      "source": [
        "# Set up the training using skorch\n",
        "if model_type == \"shallow\":\n",
        "  clf = NeuralNetClassifier(\n",
        "      model,\n",
        "      criterion=torch.nn.CrossEntropyLoss,\n",
        "      optimizer=torch.optim.AdamW,\n",
        "      optimizer__lr=0.0625 * 0.01,\n",
        "      optimizer__weight_decay=0,\n",
        "      batch_size=32,\n",
        "      callbacks=[\n",
        "        LRScheduler(CosineAnnealingLR, T_max=50, eta_min=0.0001),\n",
        "      ],\n",
        "      max_epochs=50,\n",
        "      device=device,\n",
        "      verbose=1,\n",
        "  )\n",
        "else:\n",
        "  clf = NeuralNetClassifier(\n",
        "      model,\n",
        "      criterion=torch.nn.CrossEntropyLoss,\n",
        "      optimizer=torch.optim.AdamW,\n",
        "      optimizer__lr=0.001,\n",
        "      optimizer__weight_decay=0,\n",
        "      batch_size=100,\n",
        "      callbacks=[\n",
        "        LRScheduler(CosineAnnealingLR, T_max=100, eta_min=0.0001),\n",
        "        EarlyStopping(patience=10)\n",
        "      ],\n",
        "      max_epochs=200,\n",
        "      device=device,\n",
        "      verbose=1,\n",
        "  )\n",
        "\n",
        "print(\"Starting training...\")"
      ]
    },
    {
      "cell_type": "code",
      "execution_count": 6,
      "metadata": {},
      "outputs": [
        {
          "name": "stdout",
          "output_type": "stream",
          "text": [
            "Starting full training...\n",
            "Training data: torch.Size([1110, 19, 600])\n",
            "Labels: torch.Size([1110]) with classes [0, 1]\n"
          ]
        },
        {
          "name": "stdout",
          "output_type": "stream",
          "text": [
            "  epoch    train_loss    valid_acc    valid_loss      lr     dur\n",
            "-------  ------------  -----------  ------------  ------  ------\n",
            "      1        \u001b[36m0.9473\u001b[0m       \u001b[32m0.6622\u001b[0m        \u001b[35m0.5999\u001b[0m  0.0006  1.7184\n",
            "      2        \u001b[36m0.5755\u001b[0m       \u001b[32m0.7568\u001b[0m        \u001b[35m0.4912\u001b[0m  0.0006  1.6549\n",
            "      3        \u001b[36m0.4297\u001b[0m       \u001b[32m0.8468\u001b[0m        \u001b[35m0.3769\u001b[0m  0.0006  1.7247\n",
            "      4        \u001b[36m0.3069\u001b[0m       \u001b[32m0.8649\u001b[0m        \u001b[35m0.2987\u001b[0m  0.0006  1.4508\n",
            "      5        \u001b[36m0.2320\u001b[0m       \u001b[32m0.9009\u001b[0m        \u001b[35m0.2612\u001b[0m  0.0006  1.4864\n",
            "      6        \u001b[36m0.2049\u001b[0m       \u001b[32m0.9144\u001b[0m        \u001b[35m0.2246\u001b[0m  0.0006  1.6321\n",
            "      7        \u001b[36m0.1520\u001b[0m       0.9144        \u001b[35m0.2116\u001b[0m  0.0006  1.4279\n",
            "      8        \u001b[36m0.1398\u001b[0m       \u001b[32m0.9279\u001b[0m        \u001b[35m0.1966\u001b[0m  0.0006  1.5646\n",
            "      9        \u001b[36m0.1180\u001b[0m       \u001b[32m0.9324\u001b[0m        \u001b[35m0.1904\u001b[0m  0.0006  1.3902\n",
            "     10        \u001b[36m0.0900\u001b[0m       0.9234        \u001b[35m0.1876\u001b[0m  0.0006  1.4846\n",
            "     11        \u001b[36m0.0862\u001b[0m       \u001b[32m0.9369\u001b[0m        \u001b[35m0.1781\u001b[0m  0.0006  1.6711\n",
            "     12        \u001b[36m0.0709\u001b[0m       0.9324        0.1818  0.0006  1.8492\n",
            "     13        \u001b[36m0.0615\u001b[0m       0.9369        0.1916  0.0006  1.5201\n",
            "     14        \u001b[36m0.0525\u001b[0m       0.9234        0.1896  0.0005  1.7636\n",
            "     15        \u001b[36m0.0465\u001b[0m       0.9369        0.2017  0.0005  1.5457\n",
            "     16        \u001b[36m0.0453\u001b[0m       0.9234        0.1889  0.0005  1.5635\n",
            "     17        \u001b[36m0.0435\u001b[0m       0.9234        0.1859  0.0005  1.6262\n",
            "     18        \u001b[36m0.0393\u001b[0m       0.9369        \u001b[35m0.1765\u001b[0m  0.0005  1.2867\n",
            "     19        \u001b[36m0.0313\u001b[0m       0.9324        0.1845  0.0005  1.7924\n",
            "     20        \u001b[36m0.0295\u001b[0m       0.9324        0.1893  0.0005  2.6781\n",
            "     21        \u001b[36m0.0292\u001b[0m       0.9234        0.1859  0.0004  1.8211\n",
            "     22        \u001b[36m0.0223\u001b[0m       0.9324        \u001b[35m0.1715\u001b[0m  0.0004  1.7131\n",
            "     23        0.0236       0.9324        0.1857  0.0004  1.4808\n",
            "     24        0.0231       0.9369        0.1765  0.0004  1.3705\n",
            "     25        \u001b[36m0.0196\u001b[0m       0.9279        0.1942  0.0004  1.3071\n",
            "     26        0.0199       0.9279        0.2207  0.0004  1.2859\n",
            "     27        0.0217       0.9324        0.1955  0.0003  1.3640\n",
            "     28        \u001b[36m0.0165\u001b[0m       0.9324        0.1913  0.0003  1.4107\n",
            "     29        0.0169       0.9324        0.1842  0.0003  1.2551\n",
            "     30        \u001b[36m0.0137\u001b[0m       0.9324        0.1768  0.0003  1.2511\n",
            "     31        0.0147       0.9279        0.1877  0.0003  1.4215\n",
            "     32        \u001b[36m0.0127\u001b[0m       0.9324        0.1891  0.0003  1.3853\n",
            "     33        0.0129       0.9369        0.1837  0.0003  2.1817\n",
            "     34        0.0147       0.9324        0.1987  0.0002  1.7296\n",
            "     35        0.0140       0.9324        0.2017  0.0002  1.7724\n",
            "     36        \u001b[36m0.0097\u001b[0m       0.9324        0.1986  0.0002  2.0240\n",
            "     37        0.0102       0.9279        0.1970  0.0002  1.5776\n",
            "     38        \u001b[36m0.0094\u001b[0m       0.9324        0.1920  0.0002  1.6641\n",
            "     39        0.0096       0.9324        0.1975  0.0002  1.8196\n",
            "     40        0.0113       0.9369        0.1919  0.0002  1.7978\n",
            "     41        \u001b[36m0.0085\u001b[0m       0.9369        0.1872  0.0002  1.8631\n",
            "     42        0.0087       0.9279        0.1907  0.0001  1.9413\n",
            "     43        \u001b[36m0.0074\u001b[0m       0.9324        0.1908  0.0001  2.0456\n",
            "     44        0.0097       0.9324        0.2015  0.0001  1.7042\n",
            "     45        \u001b[36m0.0068\u001b[0m       0.9369        0.1997  0.0001  1.6020\n",
            "     46        0.0079       0.9324        0.1977  0.0001  1.8243\n",
            "     47        0.0075       0.9324        0.1975  0.0001  1.7943\n",
            "     48        0.0073       0.9324        0.2007  0.0001  1.5940\n",
            "     49        \u001b[36m0.0063\u001b[0m       0.9279        0.1995  0.0001  1.7365\n",
            "     50        0.0067       0.9279        0.1966  0.0001  1.7253\n",
            "\n",
            "✅ Training completed successfully!\n"
          ]
        }
      ],
      "source": [
        "print(f\"Starting full training...\")\n",
        "print(f\"Training data: {X_train.shape}\")\n",
        "print(f\"Labels: {Y_train.shape} with classes {torch.unique(Y_train).tolist()}\")\n",
        "\n",
        "# Train the model\n",
        "clf.fit(X_train, Y_train)\n",
        "print(\"\\n✅ Training completed successfully!\")"
      ]
    },
    {
      "cell_type": "code",
      "execution_count": 7,
      "metadata": {},
      "outputs": [
        {
          "name": "stdout",
          "output_type": "stream",
          "text": [
            "Evaluating model...\n",
            "Training Accuracy: 0.9856\n",
            "Test Accuracy: 0.9532\n",
            "\n",
            "First 20 test predictions vs actual:\n",
            "Sample 1: Predicted=2, Actual=2\n",
            "Sample 2: Predicted=1, Actual=1\n",
            "Sample 3: Predicted=1, Actual=1\n",
            "Sample 4: Predicted=2, Actual=2\n",
            "Sample 5: Predicted=2, Actual=2\n",
            "Sample 6: Predicted=2, Actual=2\n",
            "Sample 7: Predicted=1, Actual=1\n",
            "Sample 8: Predicted=2, Actual=2\n",
            "Sample 9: Predicted=1, Actual=1\n",
            "Sample 10: Predicted=2, Actual=2\n",
            "Sample 11: Predicted=2, Actual=2\n",
            "Sample 12: Predicted=1, Actual=1\n",
            "Sample 13: Predicted=2, Actual=2\n",
            "Sample 14: Predicted=1, Actual=1\n",
            "Sample 15: Predicted=2, Actual=2\n",
            "Sample 16: Predicted=1, Actual=1\n",
            "Sample 17: Predicted=2, Actual=2\n",
            "Sample 18: Predicted=2, Actual=2\n",
            "Sample 19: Predicted=1, Actual=1\n",
            "Sample 20: Predicted=2, Actual=2\n"
          ]
        }
      ],
      "source": [
        "# Evaluate the model\n",
        "print(\"Evaluating model...\")\n",
        "\n",
        "# Training accuracy\n",
        "train_predictions = clf.predict(X_train)\n",
        "train_accuracy = np.mean(train_predictions == Y_train.numpy())\n",
        "print(f\"Training Accuracy: {train_accuracy:.4f}\")\n",
        "\n",
        "# Test accuracy\n",
        "test_predictions = clf.predict(X_test)\n",
        "test_accuracy = np.mean(test_predictions == Y_test.numpy())\n",
        "print(f\"Test Accuracy: {test_accuracy:.4f}\")\n",
        "\n",
        "# Print predictions vs actual for first 20 test samples\n",
        "print(\"\\nFirst 20 test predictions vs actual:\")\n",
        "for i in range(min(20, len(Y_test))):\n",
        "    pred_label = label_encoder.inverse_transform([test_predictions[i]])[0]\n",
        "    actual_label = label_encoder.inverse_transform([Y_test[i].item()])[0]\n",
        "    print(f\"Sample {i+1}: Predicted={pred_label}, Actual={actual_label}\")\n"
      ]
    },
    {
      "cell_type": "code",
      "execution_count": 8,
      "metadata": {},
      "outputs": [
        {
          "data": {
            "image/png": "[encoded data removed]",
            "text/plain": [
              "<Figure size 1000x600 with 1 Axes>"
            ]
          },
          "metadata": {},
          "output_type": "display_data"
        },
        {
          "name": "stdout",
          "output_type": "stream",
          "text": [
            "Final training loss: 0.0067\n",
            "Final validation loss: 0.1966\n"
          ]
        }
      ],
      "source": [
        "# Plot training history\n",
        "train_losses = [hist['train_loss'] for hist in clf.history]\n",
        "valid_losses = [hist['valid_loss'] for hist in clf.history]\n",
        "\n",
        "plt.figure(figsize=(10, 6))\n",
        "plt.plot(train_losses, linewidth=2, label='Training Loss')\n",
        "plt.plot(valid_losses, linewidth=2, label='Validation Loss')\n",
        "plt.xlabel('Epoch')\n",
        "plt.ylabel('Loss')\n",
        "plt.title('Training and Validation Loss')\n",
        "plt.legend()\n",
        "plt.grid(True)\n",
        "plt.show()\n",
        "\n",
        "print(f\"Final training loss: {train_losses[-1]:.4f}\")\n",
        "print(f\"Final validation loss: {valid_losses[-1]:.4f}\")\n"
      ]
    },
    {
      "cell_type": "code",
      "execution_count": 9,
      "metadata": {},
      "outputs": [
        {
          "name": "stdout",
          "output_type": "stream",
          "text": [
            "Confusion Matrix:\n",
            "[[130   9]\n",
            " [  4 135]]\n",
            "\n",
            "Classification Report:\n",
            "              precision    recall  f1-score   support\n",
            "\n",
            "           1       0.97      0.94      0.95       139\n",
            "           2       0.94      0.97      0.95       139\n",
            "\n",
            "    accuracy                           0.95       278\n",
            "   macro avg       0.95      0.95      0.95       278\n",
            "weighted avg       0.95      0.95      0.95       278\n",
            "\n"
          ]
        },
        {
          "data": {
            "image/png": "[encoded data removed]",
            "text/plain": [
              "<Figure size 800x600 with 2 Axes>"
            ]
          },
          "metadata": {},
          "output_type": "display_data"
        }
      ],
      "source": [
        "# Confusion matrix and classification report\n",
        "from sklearn.metrics import confusion_matrix, classification_report\n",
        "\n",
        "# Get original labels back\n",
        "test_labels_original = label_encoder.inverse_transform(Y_test.numpy())\n",
        "pred_labels_original = label_encoder.inverse_transform(test_predictions)\n",
        "\n",
        "# Confusion matrix\n",
        "cm = confusion_matrix(test_labels_original, pred_labels_original)\n",
        "print(\"Confusion Matrix:\")\n",
        "print(cm)\n",
        "\n",
        "# Classification report\n",
        "print(\"\\nClassification Report:\")\n",
        "print(classification_report(test_labels_original, pred_labels_original))\n",
        "\n",
        "# Plot confusion matrix\n",
        "plt.figure(figsize=(8, 6))\n",
        "plt.imshow(cm, interpolation='nearest', cmap=plt.cm.Blues)\n",
        "plt.title('Confusion Matrix')\n",
        "plt.colorbar()\n",
        "tick_marks = np.arange(len(np.unique(test_labels_original)))\n",
        "plt.xticks(tick_marks, np.unique(test_labels_original))\n",
        "plt.yticks(tick_marks, np.unique(test_labels_original))\n",
        "plt.xlabel('Predicted Label')\n",
        "plt.ylabel('True Label')\n",
        "\n",
        "# Add numbers to confusion matrix\n",
        "thresh = cm.max() / 2.\n",
        "for i, j in np.ndindex(cm.shape):\n",
        "    plt.text(j, i, format(cm[i, j], 'd'),\n",
        "             horizontalalignment=\"center\",\n",
        "             color=\"white\" if cm[i, j] > thresh else \"black\")\n",
        "\n",
        "plt.tight_layout()\n",
        "plt.show()\n"
      ]
    },
    {
      "cell_type": "code",
      "execution_count": 10,
      "metadata": {},
      "outputs": [
        {
          "name": "stdout",
          "output_type": "stream",
          "text": [
            "Model saved successfully!\n",
            "Files created:\n",
            "- preexisting_shallow_model.pth: Model weights and parameters\n"
          ]
        }
      ],
      "source": [
        "# Save the trained model\n",
        "import torch\n",
        "\n",
        "# Save the complete model\n",
        "torch.save(model.state_dict(), f'preexisting_{model_type}_model.pth')\n",
        "\n",
        "print(\"Model saved successfully!\")\n",
        "print(\"Files created:\")\n",
        "print(f\"- preexisting_{model_type}_model.pth: Model weights and parameters\")\n"
      ]
    }
  ],
  "metadata": {
    "kernelspec": {
      "display_name": ".venv",
      "language": "python",
      "name": "python3"
    },
    "language_info": {
      "codemirror_mode": {
        "name": "ipython",
        "version": 3
      },
      "file_extension": ".py",
      "mimetype": "text/x-python",
      "name": "python",
      "nbconvert_exporter": "python",
      "pygments_lexer": "ipython3",
      "version": "3.11.13"
    }
  },
  "nbformat": 4,
  "nbformat_minor": 2
}
