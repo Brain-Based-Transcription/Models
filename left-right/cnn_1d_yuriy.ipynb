{
 "cells": [
  {
   "cell_type": "code",
   "execution_count": 180,
   "metadata": {},
   "outputs": [
    {
     "name": "stdout",
     "output_type": "stream",
     "text": [
      "Using device: cpu\n"
     ]
    }
   ],
   "source": [
    "# ==============================================================================\n",
    "# IMPORTS AND SETUP\n",
    "# ==============================================================================\n",
    "\n",
    "import numpy as np\n",
    "import torch\n",
    "import torch.nn as nn\n",
    "import torch.optim.lr_scheduler as lr_scheduler\n",
    "import matplotlib.pyplot as plt\n",
    "from sklearn.model_selection import train_test_split\n",
    "from sklearn.preprocessing import LabelEncoder\n",
    "import pytorch_lightning as pl\n",
    "from torchinfo import summary\n",
    "\n",
    "# Local imports\n",
    "from yuriy_preprocess import get_yuriy_data\n",
    "from cnn_1d_model import CNN1D\n",
    "from NeuralNetTrainer import NeuralNetTrainer\n",
    "from training_utils import MetricsLogger, create_data_loaders\n",
    "\n",
    "# Set random seeds for reproducibility\n",
    "torch.manual_seed(42)\n",
    "np.random.seed(42)\n",
    "device = \"cuda\" if torch.cuda.is_available() else \"cpu\"\n",
    "print(f\"Using device: {device}\")\n"
   ]
  },
  {
   "cell_type": "code",
   "execution_count": 181,
   "metadata": {},
   "outputs": [
    {
     "name": "stdout",
     "output_type": "stream",
     "text": [
      "Loading and preprocessing data...\n",
      "Data shape: (1388, 600, 19) -> Processed: torch.Size([1110, 19, 600])\n",
      "Classes: [1 2] -> Encoded: [0 1]\n",
      "Channels: 19, Sampling freq: 200 Hz\n",
      "Train/Test split: 1110/278 samples\n"
     ]
    }
   ],
   "source": [
    "# ==============================================================================\n",
    "# DATA LOADING AND PREPROCESSING\n",
    "# ==============================================================================\n",
    "\n",
    "# Load and prepare data\n",
    "print(\"Loading and preprocessing data...\")\n",
    "X, Y, meta_data = get_yuriy_data(samples_around=300)\n",
    "\n",
    "# Convert labels to 0-based indexing and encode\n",
    "label_encoder = LabelEncoder()\n",
    "Y_encoded = label_encoder.fit_transform(Y)\n",
    "\n",
    "# Convert to torch tensors and transpose to (trials, channels, timepoints)\n",
    "X_tensor = torch.from_numpy(X).float().permute(0, 2, 1)  # (trials, time, channels) -> (trials, channels, time)\n",
    "Y_tensor = torch.from_numpy(Y_encoded).long()\n",
    "\n",
    "# Split data into train/test\n",
    "X_train, X_test, Y_train, Y_test = train_test_split(\n",
    "    X_tensor, Y_tensor, test_size=0.2, random_state=42, stratify=Y_tensor\n",
    ")\n",
    "\n",
    "# CNN1D expects (batch, channels, time) - NO extra dimension needed unlike ConvLUN\n",
    "# So we keep X_train and X_test as is without unsqueeze(1)\n",
    "\n",
    "# Display data info\n",
    "print(f\"Data shape: {X.shape} -> Processed: {X_train.shape}\")\n",
    "print(f\"Classes: {np.unique(Y)} -> Encoded: {np.unique(Y_encoded)}\")\n",
    "print(f\"Channels: {len(meta_data['channel_names'])}, Sampling freq: {meta_data['sampFreq']} Hz\")\n",
    "print(f\"Train/Test split: {X_train.shape[0]}/{X_test.shape[0]} samples\")\n"
   ]
  },
  {
   "cell_type": "code",
   "execution_count": 182,
   "metadata": {},
   "outputs": [
    {
     "name": "stdout",
     "output_type": "stream",
     "text": [
      "Model configured with 2 classes, 19 channels, 600 timepoints\n",
      "Sample input shape: torch.Size([2, 19, 600]) -> Output shape: torch.Size([2, 2])\n",
      "\n",
      "Model Summary:\n"
     ]
    },
    {
     "data": {
      "text/plain": [
       "==========================================================================================\n",
       "Layer (type:depth-idx)                   Output Shape              Param #\n",
       "==========================================================================================\n",
       "CNN1D                                    [2, 2]                    --\n",
       "├─Sequential: 1-1                        [2, 95, 599]              --\n",
       "│    └─Conv1d: 2-1                       [2, 95, 599]              9,595\n",
       "│    └─BatchNorm1d: 2-2                  [2, 95, 599]              190\n",
       "│    └─GELU: 2-3                         [2, 95, 599]              --\n",
       "│    └─Dropout1d: 2-4                    [2, 95, 599]              --\n",
       "├─Sequential: 1-2                        [2, 100, 599]             --\n",
       "│    └─Conv1d: 2-5                       [2, 100, 599]             9,600\n",
       "│    └─BatchNorm1d: 2-6                  [2, 100, 599]             200\n",
       "│    └─GELU: 2-7                         [2, 100, 599]             --\n",
       "│    └─Dropout1d: 2-8                    [2, 100, 599]             --\n",
       "├─ModuleList: 1-3                        --                        --\n",
       "│    └─Sequential: 2-9                   [2, 100, 299]             --\n",
       "│    │    └─Conv1d: 3-1                  [2, 100, 598]             100,100\n",
       "│    │    └─BatchNorm1d: 3-2             [2, 100, 598]             200\n",
       "│    │    └─GELU: 3-3                    [2, 100, 598]             --\n",
       "│    │    └─Dropout1d: 3-4               [2, 100, 598]             --\n",
       "│    │    └─AvgPool1d: 3-5               [2, 100, 299]             --\n",
       "│    └─Sequential: 2-10                  [2, 100, 149]             --\n",
       "│    │    └─Conv1d: 3-6                  [2, 100, 298]             100,100\n",
       "│    │    └─BatchNorm1d: 3-7             [2, 100, 298]             200\n",
       "│    │    └─GELU: 3-8                    [2, 100, 298]             --\n",
       "│    │    └─Dropout1d: 3-9               [2, 100, 298]             --\n",
       "│    │    └─AvgPool1d: 3-10              [2, 100, 149]             --\n",
       "│    └─Sequential: 2-11                  [2, 100, 74]              --\n",
       "│    │    └─Conv1d: 3-11                 [2, 100, 148]             100,100\n",
       "│    │    └─BatchNorm1d: 3-12            [2, 100, 148]             200\n",
       "│    │    └─GELU: 3-13                   [2, 100, 148]             --\n",
       "│    │    └─Dropout1d: 3-14              [2, 100, 148]             --\n",
       "│    │    └─AvgPool1d: 3-15              [2, 100, 74]              --\n",
       "├─Linear: 1-4                            [2, 2]                    14,802\n",
       "==========================================================================================\n",
       "Total params: 335,287\n",
       "Trainable params: 335,287\n",
       "Non-trainable params: 0\n",
       "Total mult-adds (Units.MEGABYTES): 232.04\n",
       "==========================================================================================\n",
       "Input size (MB): 0.09\n",
       "Forward/backward pass size (MB): 7.08\n",
       "Params size (MB): 1.34\n",
       "Estimated Total Size (MB): 8.51\n",
       "=========================================================================================="
      ]
     },
     "execution_count": 182,
     "metadata": {},
     "output_type": "execute_result"
    }
   ],
   "source": [
    "# ==============================================================================\n",
    "# MODEL CONFIGURATION\n",
    "# ==============================================================================\n",
    "\n",
    "# Model parameters\n",
    "n_outputs = len(np.unique(Y_encoded))\n",
    "n_chans = X_tensor.shape[1]  # Number of channels  \n",
    "n_times = X_tensor.shape[2]  # Number of time samples\n",
    "sfreq = meta_data['sampFreq']\n",
    "\n",
    "# Create CNN1D model\n",
    "model = CNN1D(\n",
    "    input_channels=n_chans,\n",
    "    num_samples=n_times,\n",
    "    sample_freq=sfreq,\n",
    "    channels=[95, 100, 100, 100, 100],\n",
    "    kernel_size=10,\n",
    "    dropout=0.5,\n",
    "    activation=nn.GELU,\n",
    "    pooling=nn.AvgPool1d,\n",
    "    pooling_kernel_size=2,\n",
    "    num_conv_blocks=3,\n",
    ")\n",
    "\n",
    "print(f\"Model configured with {n_outputs} classes, {n_chans} channels, {n_times} timepoints\")\n",
    "\n",
    "# Test model with sample input first (to initialize LazyLinear)\n",
    "sample_input = torch.randn(2, n_chans, n_times)\n",
    "sample_output = model(sample_input)\n",
    "print(f\"Sample input shape: {sample_input.shape} -> Output shape: {sample_output.shape}\")\n",
    "\n",
    "# Now print the model summary\n",
    "print(\"\\nModel Summary:\")\n",
    "summary(model, input_size=(2, n_chans, n_times))"
   ]
  },
  {
   "cell_type": "code",
   "execution_count": 183,
   "metadata": {},
   "outputs": [
    {
     "name": "stderr",
     "output_type": "stream",
     "text": [
      "/Users/alejandro/watolink/Models/.venv/lib/python3.11/site-packages/torch/utils/data/dataloader.py:626: UserWarning: This DataLoader will create 30 worker processes in total. Our suggested max number of worker in current system is 16 (`cpuset` is not taken into account), which is smaller than what this DataLoader is going to create. Please be aware that excessive worker creation might get DataLoader running slow or even freeze, lower the worker number to avoid potential slowness/freeze if necessary.\n",
      "  warnings.warn(\n",
      "💡 Tip: For seamless cloud uploads and versioning, try installing [litmodels](https://pypi.org/project/litmodels/) to enable LitModelCheckpoint, which syncs automatically with the Lightning model registry.\n",
      "GPU available: True (mps), used: True\n",
      "TPU available: False, using: 0 TPU cores\n",
      "HPU available: False, using: 0 HPUs\n",
      "\n",
      "  | Name    | Type             | Params | Mode \n",
      "-----------------------------------------------------\n",
      "0 | model   | CNN1D            | 335 K  | train\n",
      "1 | loss_fn | CrossEntropyLoss | 0      | train\n",
      "-----------------------------------------------------\n",
      "335 K     Trainable params\n",
      "0         Non-trainable params\n",
      "335 K     Total params\n",
      "1.341     Total estimated model params size (MB)\n",
      "32        Modules in train mode\n",
      "0         Modules in eval mode\n"
     ]
    },
    {
     "name": "stdout",
     "output_type": "stream",
     "text": [
      "Starting training...\n",
      "Epoch 104: 100%|██████████| 28/28 [00:00<00:00, 66.66it/s, v_num=83, train_loss_step=0.198, val_loss=0.269, train_loss_epoch=0.0996] \n",
      "Training completed!\n"
     ]
    }
   ],
   "source": [
    "# ==============================================================================\n",
    "# TRAINING EXECUTION\n",
    "# ==============================================================================\n",
    "\n",
    "# Setup trainer\n",
    "nntrainer = NeuralNetTrainer(\n",
    "    model=model,\n",
    "    loss_fn=torch.nn.CrossEntropyLoss(),\n",
    "    learning_rate=0.001,\n",
    "    metrics={'accuracy': lambda y_hat, y: torch.mean((torch.argmax(y_hat, dim=1) == y).float())},\n",
    "    scheduler=lr_scheduler.ReduceLROnPlateau,\n",
    "    scheduler_kwargs={\n",
    "        'factor': 0.5,\n",
    "        'patience': 10,\n",
    "        'min_lr': 1e-6,\n",
    "    },\n",
    ")\n",
    "\n",
    "# Create data loaders\n",
    "train_loader, val_loader = create_data_loaders(\n",
    "    X_train, \n",
    "    Y_train, \n",
    "    batch_size=32, \n",
    "    loader_kwargs={'num_workers': 30, 'persistent_workers': True}\n",
    ")\n",
    "\n",
    "# Setup metrics logging and trainer\n",
    "metrics_logger = MetricsLogger(to_log=['accuracy', 'loss'])\n",
    "trainer = pl.Trainer(\n",
    "    max_epochs=200, \n",
    "    log_every_n_steps=10,\n",
    "    callbacks=[\n",
    "        metrics_logger, \n",
    "        pl.callbacks.EarlyStopping(monitor='val_loss', patience=30)\n",
    "    ]\n",
    ")\n",
    "\n",
    "# Train model\n",
    "print(\"Starting training...\")\n",
    "trainer.fit(nntrainer, train_loader, val_loader)\n",
    "print(\"Training completed!\")\n"
   ]
  },
  {
   "cell_type": "code",
   "execution_count": 184,
   "metadata": {},
   "outputs": [
    {
     "name": "stdout",
     "output_type": "stream",
     "text": [
      "Evaluating model performance...\n",
      "Training Accuracy: 0.9820\n",
      "Test Accuracy: 0.9137\n",
      "\n",
      "Sample predictions (first 10 test samples):\n",
      "✗ Predicted: 1, Actual: 2\n",
      "✓ Predicted: 1, Actual: 1\n",
      "✓ Predicted: 1, Actual: 1\n",
      "✓ Predicted: 2, Actual: 2\n",
      "✓ Predicted: 2, Actual: 2\n",
      "✓ Predicted: 2, Actual: 2\n",
      "✓ Predicted: 1, Actual: 1\n",
      "✓ Predicted: 2, Actual: 2\n",
      "✓ Predicted: 1, Actual: 1\n",
      "✓ Predicted: 2, Actual: 2\n"
     ]
    }
   ],
   "source": [
    "# ==============================================================================\n",
    "# MODEL EVALUATION\n",
    "# ==============================================================================\n",
    "\n",
    "# Evaluate model performance\n",
    "print(\"Evaluating model performance...\")\n",
    "\n",
    "# Training accuracy\n",
    "model.eval()\n",
    "with torch.no_grad():\n",
    "    train_outputs = model(X_train)\n",
    "    train_preds = torch.argmax(train_outputs, dim=1)\n",
    "    train_accuracy = torch.mean((train_preds == Y_train).float()).item()\n",
    "\n",
    "# Test accuracy\n",
    "with torch.no_grad():\n",
    "    test_outputs = model(X_test)\n",
    "    test_preds = torch.argmax(test_outputs, dim=1)\n",
    "    test_accuracy = torch.mean((test_preds == Y_test).float()).item()\n",
    "\n",
    "print(f\"Training Accuracy: {train_accuracy:.4f}\")\n",
    "print(f\"Test Accuracy: {test_accuracy:.4f}\")\n",
    "\n",
    "# Sample predictions\n",
    "print(f\"\\nSample predictions (first 10 test samples):\")\n",
    "for i in range(min(10, len(Y_test))):\n",
    "    pred_class = label_encoder.inverse_transform([test_preds[i].item()])[0]\n",
    "    actual_class = label_encoder.inverse_transform([Y_test[i].item()])[0]\n",
    "    status = \"✓\" if test_preds[i] == Y_test[i] else \"✗\"\n",
    "    print(f\"{status} Predicted: {pred_class}, Actual: {actual_class}\")\n"
   ]
  },
  {
   "cell_type": "code",
   "execution_count": 185,
   "metadata": {},
   "outputs": [
    {
     "data": {
      "image/png": "[encoded data removed]",
      "text/plain": [
       "<Figure size 1200x400 with 2 Axes>"
      ]
     },
     "metadata": {},
     "output_type": "display_data"
    },
    {
     "name": "stdout",
     "output_type": "stream",
     "text": [
      "Final Training Loss: 0.0996\n",
      "Final Validation Loss: 0.2691\n",
      "Final Training Accuracy: 0.9628\n",
      "Final Validation Accuracy: 0.9144\n",
      "\n",
      "============================================================\n",
      "FINAL RESULTS SUMMARY\n",
      "============================================================\n",
      "Model: CNN1D\n",
      "Data shape: torch.Size([1110, 19, 600]) (batch, channels, time)\n",
      "Classes: 2 ([1 2])\n",
      "Training samples: 1110\n",
      "Test samples: 278\n",
      "Training Accuracy: 0.9820\n",
      "Test Accuracy: 0.9137\n",
      "============================================================\n"
     ]
    }
   ],
   "source": [
    "# ==============================================================================\n",
    "# TRAINING VISUALIZATION\n",
    "# ==============================================================================\n",
    "\n",
    "train_losses = metrics_logger.train_metrics['loss']\n",
    "val_losses = metrics_logger.val_metrics['loss']\n",
    "train_accuracies = metrics_logger.train_metrics['accuracy']\n",
    "val_accuracies = metrics_logger.val_metrics['accuracy']\n",
    "\n",
    "# Plot training curves\n",
    "plt.figure(figsize=(12, 4))\n",
    "\n",
    "# Loss plot\n",
    "plt.subplot(1, 2, 1)\n",
    "if train_losses and val_losses:\n",
    "    # Create separate epoch ranges for train and validation (they might have different lengths)\n",
    "    train_epochs = range(1, len(train_losses) + 1)\n",
    "    val_epochs = range(1, len(val_losses) + 1)\n",
    "    \n",
    "    plt.plot(train_epochs, train_losses, 'b-', label='Training Loss', linewidth=2)\n",
    "    plt.plot(val_epochs, val_losses, 'r-', label='Validation Loss', linewidth=2)\n",
    "    plt.title('Training & Validation Loss')\n",
    "    plt.xlabel('Epoch')\n",
    "    plt.ylabel('Loss')\n",
    "    plt.legend()\n",
    "    plt.grid(True, alpha=0.3)\n",
    "\n",
    "# Accuracy plot\n",
    "plt.subplot(1, 2, 2)\n",
    "if train_accuracies and val_accuracies:\n",
    "    # Create separate epoch ranges for train and validation accuracies\n",
    "    train_acc_epochs = range(1, len(train_accuracies) + 1)\n",
    "    val_acc_epochs = range(1, len(val_accuracies) + 1)\n",
    "    \n",
    "    plt.plot(train_acc_epochs, train_accuracies, 'b-', label='Training Accuracy', linewidth=2)\n",
    "    plt.plot(val_acc_epochs, val_accuracies, 'r-', label='Validation Accuracy', linewidth=2)\n",
    "    plt.title('Training & Validation Accuracy')\n",
    "    plt.xlabel('Epoch')\n",
    "    plt.ylabel('Accuracy')\n",
    "    plt.legend()\n",
    "    plt.grid(True, alpha=0.3)\n",
    "    plt.ylim(0, 1)\n",
    "\n",
    "plt.tight_layout()\n",
    "plt.show()\n",
    "\n",
    "# Display final metrics\n",
    "if train_losses:\n",
    "    print(f\"Final Training Loss: {train_losses[-1]:.4f}\")\n",
    "if val_losses:\n",
    "    print(f\"Final Validation Loss: {val_losses[-1]:.4f}\")\n",
    "if train_accuracies:\n",
    "    print(f\"Final Training Accuracy: {train_accuracies[-1]:.4f}\")\n",
    "if val_accuracies:\n",
    "    print(f\"Final Validation Accuracy: {val_accuracies[-1]:.4f}\")\n",
    "\n",
    "# Print model summary\n",
    "print(f\"\\n{'='*60}\")\n",
    "print(f\"FINAL RESULTS SUMMARY\")\n",
    "print(f\"{'='*60}\")\n",
    "print(f\"Model: CNN1D\")\n",
    "print(f\"Data shape: {X_train.shape} (batch, channels, time)\")\n",
    "print(f\"Classes: {len(np.unique(Y_encoded))} ({np.unique(Y)})\")\n",
    "print(f\"Training samples: {X_train.shape[0]}\")\n",
    "print(f\"Test samples: {X_test.shape[0]}\")\n",
    "print(f\"Training Accuracy: {train_accuracy:.4f}\")\n",
    "print(f\"Test Accuracy: {test_accuracy:.4f}\")\n",
    "print(f\"{'='*60}\")\n"
   ]
  },
  {
   "cell_type": "code",
   "execution_count": 186,
   "metadata": {},
   "outputs": [
    {
     "name": "stdout",
     "output_type": "stream",
     "text": [
      "Model saved successfully!\n",
      "Files created:\n",
      "- cnn_1d_model.pth: Model weights and parameters\n"
     ]
    }
   ],
   "source": [
    "# Save the complete model\n",
    "torch.save(model.state_dict(), 'cnn_1d_model.pth')\n",
    "\n",
    "print(\"Model saved successfully!\")\n",
    "print(\"Files created:\")\n",
    "print(\"- cnn_1d_model.pth: Model weights and parameters\")"
   ]
  }
 ],
 "metadata": {
  "kernelspec": {
   "display_name": ".venv",
   "language": "python",
   "name": "python3"
  },
  "language_info": {
   "codemirror_mode": {
    "name": "ipython",
    "version": 3
   },
   "file_extension": ".py",
   "mimetype": "text/x-python",
   "name": "python",
   "nbconvert_exporter": "python",
   "pygments_lexer": "ipython3",
   "version": "3.11.7"
  }
 },
 "nbformat": 4,
 "nbformat_minor": 2
}
